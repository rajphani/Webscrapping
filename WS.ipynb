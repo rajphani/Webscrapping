{
 "cells": [
  {
   "cell_type": "code",
   "execution_count": 140,
   "metadata": {},
   "outputs": [],
   "source": [
    "import requests\n",
    "from bs4 import BeautifulSoup\n"
   ]
  },
  {
   "cell_type": "code",
   "execution_count": 141,
   "metadata": {},
   "outputs": [],
   "source": [
    "res= requests.get('https://www.vsni.co.uk/software/genstat/htmlhelp/spread/DateFormats.htm')\n",
    "soup= bs4.BeautifulSoup(res.content,'html.parser')\n",
    "datafile = open('WSoutput.txt', 'a')\n",
    "headers = soup.find_all(\"td\" )\n",
    "for i in range(len(headers)):\n",
    "    datafile.write(headers[i].get_text())\n",
    "    datafile.write('\\n')\n",
    "datafile.close()"
   ]
  },
  {
   "cell_type": "code",
   "execution_count": 142,
   "metadata": {},
   "outputs": [],
   "source": [
    "\n",
    "res= requests.get('https://slickdeals.net/')\n",
    "soup= bs4.BeautifulSoup(res.content,'html.parser')\n",
    "datafile = open('WSoutput.txt', 'a')\n",
    "headers = soup.select('.itemPrice   ')\n",
    "for i in range(len(headers)):\n",
    "    datafile.write(headers[i].get_text())\n",
    "datafile.close()   "
   ]
  },
  {
   "cell_type": "code",
   "execution_count": 143,
   "metadata": {},
   "outputs": [],
   "source": [
    "res= requests.get('https://www.nitt.edu/home/academics/contact_details/')\n",
    "soup= bs4.BeautifulSoup(res.content,'html.parser')\n",
    "datafile = open('WSoutput.txt', 'a')\n",
    "headers = soup.select(\"td\" )\n",
    "for i in range(len(headers)):\n",
    "    datafile.write(headers[i].get_text())\n",
    "    datafile.write('\\n')\n",
    "datafile.close()"
   ]
  },
  {
   "cell_type": "code",
   "execution_count": 144,
   "metadata": {},
   "outputs": [],
   "source": [
    "res= requests.get('https://fakenumber.org/')\n",
    "soup= bs4.BeautifulSoup(res.content,'html.parser')\n",
    "datafile = open('WSoutput.txt', 'a')\n",
    "headers = soup.find_all(lambda tag: tag and tag.get(\"class\") == [\"grid_6\"])\n",
    "for i in range(len(headers)):\n",
    "    datafile.write(headers[i].get_text())\n",
    "    datafile.write('\\n')\n",
    "datafile.close()"
   ]
  },
  {
   "cell_type": "code",
   "execution_count": 145,
   "metadata": {},
   "outputs": [],
   "source": [
    "res= requests.get('http://free-email-database.blogspot.com/2008/12/welcome-to-free-e-mail-database.html')\n",
    "soup= bs4.BeautifulSoup(res.content,'html.parser')\n",
    "datafile = open('WSoutput.txt', 'a')\n",
    "headers = soup.find_all(lambda tag: tag and tag.get(\"class\") == [\"entry\"] )\n",
    "brk=str(headers[0]).split('<br/>')\n",
    "for i in brk:\n",
    "    soup1= bs4.BeautifulSoup(str(i)+'\\n','html.parser')\n",
    "    datafile.write(soup1.get_text())\n",
    "datafile.close()"
   ]
  },
  {
   "cell_type": "code",
   "execution_count": null,
   "metadata": {},
   "outputs": [],
   "source": []
  }
 ],
 "metadata": {
  "kernelspec": {
   "display_name": "Python 3",
   "language": "python",
   "name": "python3"
  },
  "language_info": {
   "codemirror_mode": {
    "name": "ipython",
    "version": 3
   },
   "file_extension": ".py",
   "mimetype": "text/x-python",
   "name": "python",
   "nbconvert_exporter": "python",
   "pygments_lexer": "ipython3",
   "version": "3.6.5"
  }
 },
 "nbformat": 4,
 "nbformat_minor": 2
}
